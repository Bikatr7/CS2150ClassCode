{
  "cells": [
    {
      "cell_type": "markdown",
      "id": "75d81e93-1c56-4638-992a-af22d64c100b",
      "metadata": {
        "jp-MarkdownHeadingCollapsed": true,
        "id": "75d81e93-1c56-4638-992a-af22d64c100b"
      },
      "source": [
        "# CS 2150 Computer Project 3: Summation, Sets, and Functions\n",
        "\n",
        "**Goals:** Experiment with summation, sets, functions, and induction.\n",
        "\n",
        "**Lecture References:** L05, L06\n",
        "\n",
        "**Instructions:** Carefully read all of the text in the Markdown cells; these give you information about the assignment. **Numbered, heading-level text in the document describe the project deliverables.**\n",
        "\n",
        "**Note: Include each deliverable directly underneath the markdown cell which asks for it.**\n",
        "\n",
        "**Note also: when we receive your notebook, the first thing we will do is clear its memory and run it from the beginning.** You are responsible for ensuring that when we do this, the entire notebook executes and computes the desired results. Notebooks which fail to execute will typically receive low grades.\n"
      ]
    },
    {
      "cell_type": "markdown",
      "id": "19ceb33d-04bc-4c5f-a196-41612506aace",
      "metadata": {
        "id": "19ceb33d-04bc-4c5f-a196-41612506aace"
      },
      "source": [
        "---\n",
        "# Part 1"
      ]
    },
    {
      "cell_type": "markdown",
      "id": "bcf2295b-b249-471b-95e6-1bdafc7ad5fa",
      "metadata": {
        "id": "bcf2295b-b249-471b-95e6-1bdafc7ad5fa"
      },
      "source": [
        "# Summation\n",
        "\n",
        "This section is to reinforce the understanding of summation in implementation and translation from mathematical notation to a program.\n",
        "\n",
        "ex.\n",
        "---\n",
        "$\\sum_{i=0}^{n}(i)$\n",
        "---\n"
      ]
    },
    {
      "cell_type": "code",
      "execution_count": null,
      "id": "6d0113c3-74c7-4120-94cb-2819d9e68092",
      "metadata": {
        "id": "6d0113c3-74c7-4120-94cb-2819d9e68092",
        "outputId": "70b1f1e7-01bf-46d1-92d2-eda8a1451d04"
      },
      "outputs": [
        {
          "name": "stdout",
          "output_type": "stream",
          "text": [
            "55\n"
          ]
        }
      ],
      "source": [
        "n = 11\n",
        "sum = 0\n",
        "for i in range(n):\n",
        "    sum += i\n",
        "print(sum)"
      ]
    },
    {
      "cell_type": "markdown",
      "id": "9f9bfcec-ab53-4a64-80b1-1f08739a06b5",
      "metadata": {
        "id": "9f9bfcec-ab53-4a64-80b1-1f08739a06b5"
      },
      "source": [
        "---\n",
        "# Deliverable 1\n",
        "Write the following Summations as Python loops for a, b, c, and d\n",
        "---\n",
        "\n",
        "n = 10 for all of the following that are not otherwise specified\n",
        "---\n",
        "a)\n",
        "**Traditional Summation**\n",
        "\n",
        "$\\sum_{i=1}^{n}(\\frac{1}{i})$\n",
        "---\n",
        "\n",
        "for all of the above write a python function that runs and prints the outcome of the summation"
      ]
    },
    {
      "cell_type": "code",
      "execution_count": null,
      "id": "56a99d84-d75b-4c3e-93de-745ebdc410c1",
      "metadata": {
        "id": "56a99d84-d75b-4c3e-93de-745ebdc410c1"
      },
      "outputs": [],
      "source": [
        "def a():\n",
        "    sum = 0\n",
        "    # Write your code here\n",
        "\n",
        "    return sum"
      ]
    },
    {
      "cell_type": "markdown",
      "id": "4eae86eb-8c4e-41dc-8b12-978837cdc342",
      "metadata": {
        "id": "4eae86eb-8c4e-41dc-8b12-978837cdc342"
      },
      "source": [
        "b)\n",
        "**Function Output Summation**\n",
        "\n",
        "**f(x) = $n^2$**\n",
        "---\n",
        "\n",
        "$\\sum_{i=0}^{n}(f(i))$\n",
        "---"
      ]
    },
    {
      "cell_type": "code",
      "execution_count": null,
      "id": "731f6d48-5510-4bc1-aba1-aff7ab42de45",
      "metadata": {
        "id": "731f6d48-5510-4bc1-aba1-aff7ab42de45"
      },
      "outputs": [],
      "source": [
        "def b():\n",
        "    sum = 0\n",
        "    # Write your code here\n",
        "\n",
        "    return sum"
      ]
    },
    {
      "cell_type": "markdown",
      "id": "564e270a-d577-4497-8121-7cfbbe6cff47",
      "metadata": {
        "id": "564e270a-d577-4497-8121-7cfbbe6cff47"
      },
      "source": [
        "c)\n",
        "**Recursive Function Summation**\n",
        "\n",
        "**g(0) = $1$**\n",
        "---\n",
        "\n",
        "**g(x) = $g(x-1)*2$**\n",
        "---\n",
        "\n",
        "$\\sum_{i=0}^{n}(g(i))$\n",
        "---\n"
      ]
    },
    {
      "cell_type": "code",
      "execution_count": null,
      "id": "84c727f4-47f4-42a0-80e2-f877ac8f85a2",
      "metadata": {
        "id": "84c727f4-47f4-42a0-80e2-f877ac8f85a2"
      },
      "outputs": [],
      "source": [
        "def c(n):\n",
        "    sum = 0\n",
        "    # Write your code here\n",
        "\n",
        "    return sum"
      ]
    },
    {
      "cell_type": "markdown",
      "id": "50e17d6f-8102-4ef3-bd05-15dbd29c5dc3",
      "metadata": {
        "id": "50e17d6f-8102-4ef3-bd05-15dbd29c5dc3"
      },
      "source": [
        "d)\n",
        "**Double Summation**\n",
        "\n",
        "$\\sum_{i=0}^{n}\\sum_{j=0}^{n}(i^j)$\n",
        "---"
      ]
    },
    {
      "cell_type": "code",
      "execution_count": null,
      "id": "233f56cc-c2da-4cb2-8512-4e90f2fb3674",
      "metadata": {
        "id": "233f56cc-c2da-4cb2-8512-4e90f2fb3674"
      },
      "outputs": [],
      "source": [
        "def d():\n",
        "    sum = 0\n",
        "    # Write your code here\n",
        "\n",
        "    return sum"
      ]
    },
    {
      "cell_type": "markdown",
      "id": "9a8bb456-8529-4bf1-baed-e64e97e8ec06",
      "metadata": {
        "id": "9a8bb456-8529-4bf1-baed-e64e97e8ec06"
      },
      "source": [
        "## Do not alter the below cell"
      ]
    },
    {
      "cell_type": "code",
      "execution_count": null,
      "id": "13cb033c-e6fe-41ae-b6f8-6ce21cff5216",
      "metadata": {
        "id": "13cb033c-e6fe-41ae-b6f8-6ce21cff5216",
        "outputId": "de011af2-8a16-4ee9-922c-bc19f80f791f"
      },
      "outputs": [
        {
          "name": "stdout",
          "output_type": "stream",
          "text": [
            "0\n",
            "0\n",
            "0\n",
            "0\n"
          ]
        }
      ],
      "source": [
        "# Do Not Alter\n",
        "print(a())\n",
        "print(b())\n",
        "print(c(10))\n",
        "print(d())\n",
        "# Do Not Alter"
      ]
    },
    {
      "cell_type": "markdown",
      "id": "4d2033f2-c5fa-4180-8d45-e2cbcc83c331",
      "metadata": {
        "id": "4d2033f2-c5fa-4180-8d45-e2cbcc83c331"
      },
      "source": [
        "---\n",
        "\n",
        "# Part 2\n",
        "# Sets\n",
        "\n",
        "ex.\n",
        "\n",
        "$A = {1,2,3,4}$\n",
        "\n",
        "$B = {2,4,6,8}$\n",
        "\n",
        "$C = A \\cap B$\n",
        "\n",
        "$D = A \\cup B$\n",
        "\n",
        "---\n",
        "In Latex embedded in a Jupyter Notebook:\n",
        "\n",
        "Intersesct = \\cap\n",
        "\n",
        "Union = \\cup"
      ]
    },
    {
      "cell_type": "code",
      "execution_count": null,
      "id": "57f1437b-e7db-41dc-92ff-49560cde484f",
      "metadata": {
        "id": "57f1437b-e7db-41dc-92ff-49560cde484f",
        "outputId": "a1bb80b2-5eb6-4ff1-ddfc-acfa3345e2d1"
      },
      "outputs": [
        {
          "name": "stdout",
          "output_type": "stream",
          "text": [
            "A intersect B\n",
            "{2, 4}\n",
            "\n",
            "A union B\n",
            "{1, 2, 3, 4, 6, 8}\n"
          ]
        }
      ],
      "source": [
        "A = {1,2,3,4}\n",
        "B = {2,4,6,8}\n",
        "C = A.intersection(B)\n",
        "D = A.union(B)\n",
        "\n",
        "print(\"A intersect B\")\n",
        "print(C)\n",
        "print()\n",
        "print(\"A union B\")\n",
        "print(D)"
      ]
    },
    {
      "cell_type": "markdown",
      "id": "3fbd2120-93b3-4686-8150-3156e244b5f0",
      "metadata": {
        "id": "3fbd2120-93b3-4686-8150-3156e244b5f0"
      },
      "source": [
        "---\n",
        "# Deliverable 2\n",
        "Write the following Set operational expressions in python.\n",
        "\n",
        "A = {1,2,3,5,8,13}\n",
        "\n",
        "B = {2,5,6,8,10,12}\n",
        "\n",
        "C = {1,3,7,9,13,15}\n",
        "\n",
        "1. $(A \\cup B \\cap C) - (A \\cap B) = E$\n",
        "\n",
        "D = {1,2,4,5,7,8}\n",
        "\n",
        "2. $(C \\cap D) \\cup (A \\cap D) \\cup B = F$"
      ]
    },
    {
      "cell_type": "code",
      "execution_count": null,
      "id": "3ba10443-0847-4fab-a379-121186d47923",
      "metadata": {
        "id": "3ba10443-0847-4fab-a379-121186d47923",
        "outputId": "7539764d-08bd-4743-e927-c0c1529ef7b0"
      },
      "outputs": [
        {
          "name": "stdout",
          "output_type": "stream",
          "text": [
            "{}\n",
            "{}\n"
          ]
        }
      ],
      "source": [
        "# Enter your Python Code Here Print the final Sets (E and F) after the operations\n",
        "# Find the sets E and F and print them (mind these are different sets than from the given A, B, and C declared above)\n",
        "E = {}\n",
        "F = {}\n",
        "# 1.\n",
        "\n",
        "print(E)\n",
        "# 2.\n",
        "\n",
        "print(F)"
      ]
    },
    {
      "cell_type": "markdown",
      "id": "fbe6d564-38f5-4541-a688-17686b174670",
      "metadata": {
        "id": "fbe6d564-38f5-4541-a688-17686b174670"
      },
      "source": [
        "---\n",
        "# Part 3\n",
        "# Functions and Relations\n",
        "\n"
      ]
    },
    {
      "cell_type": "markdown",
      "id": "9845d2c3-6ae4-45fc-a9d3-3fbaed9128fa",
      "metadata": {
        "id": "9845d2c3-6ae4-45fc-a9d3-3fbaed9128fa"
      },
      "source": [
        "In this section you will explore different function applications and apply what was learned chapter 2.3.  "
      ]
    },
    {
      "cell_type": "markdown",
      "id": "803bff6d-9223-4685-8793-44e00d937a84",
      "metadata": {
        "id": "803bff6d-9223-4685-8793-44e00d937a84"
      },
      "source": [
        "---\n",
        "# Deliverable 3.1\n",
        "\n",
        "a) Write a mapping function f(x) . It will map input values from 0 to 3628 (the output of g(x)) and map them to an output that is of the same proportion but from 0 to 100. This is very useful in many applications from robotics to banking.\n",
        "\n",
        "b) Write a function g(x). Where g(x) = x!/100 where the input must be between 0 and 9 and the output must be an integer.\n",
        "\n",
        "These will be evaluated as composite outcomes of the functions. Ensure they each work individually and then together."
      ]
    },
    {
      "cell_type": "code",
      "execution_count": null,
      "id": "e23d6a65-c4a8-467d-bdf4-610b1c52881e",
      "metadata": {
        "id": "e23d6a65-c4a8-467d-bdf4-610b1c52881e"
      },
      "outputs": [],
      "source": [
        "# Write your code here\n",
        "def f(x):\n",
        "    # Mapping function from 0 to 3628 -> 0 to 100\n",
        "    return 1\n",
        "\n",
        "def g(x):\n",
        "    # Factorial function (Range 0-9)\n",
        "    return 1"
      ]
    },
    {
      "cell_type": "code",
      "execution_count": null,
      "id": "0cec0c4e-99a2-48bc-aa42-767b9c293f1f",
      "metadata": {
        "id": "0cec0c4e-99a2-48bc-aa42-767b9c293f1f",
        "outputId": "0cc7e7b3-a5f7-40f4-e667-8d2356845f25"
      },
      "outputs": [
        {
          "name": "stdout",
          "output_type": "stream",
          "text": [
            "1\n",
            "1\n",
            "1\n",
            "1\n",
            "1\n",
            "1\n",
            "1\n",
            "1\n",
            "1\n"
          ]
        }
      ],
      "source": [
        "print(f(g(9)))\n",
        "print(f(g(8)))\n",
        "print(f(g(7)))\n",
        "print(f(g(6)))\n",
        "print(f(g(5)))\n",
        "print(f(g(4)))\n",
        "print(f(g(3)))\n",
        "print(f(g(2)))\n",
        "print(f(g(1)))"
      ]
    },
    {
      "cell_type": "markdown",
      "id": "7d11baad-fb38-4732-99f6-0998a55a5b74",
      "metadata": {
        "id": "7d11baad-fb38-4732-99f6-0998a55a5b74"
      },
      "source": [
        "---\n",
        "\n",
        "## Deliverable 3.2\n",
        "Consider the set\n",
        "S = {(1,3), (-1, 1), (12, $4^2$), (.99, .999)}\n",
        "\n",
        "3.2.a) Does the set of pairs S satisfy the relation R = {(a, b) | a ≤ b}?\n",
        "\n",
        "3.2.b) Does S satisfy relation P = {(a,b) | a! < b!}?\n",
        "\n",
        "3.2.c) Does S satisfy relation Q = {(a,b) | a/b $\\leq$ b/a}?\n",
        "\n"
      ]
    },
    {
      "cell_type": "markdown",
      "id": "5a1df230-aa09-41b8-a306-54ac19c634d8",
      "metadata": {
        "id": "5a1df230-aa09-41b8-a306-54ac19c634d8"
      },
      "source": [
        "### Enter your answers for 3.2 here. Justify.\n",
        "\n",
        "3.2.a)\n",
        "\n",
        "3.2.b)\n",
        "\n",
        "3.2.c)\n"
      ]
    }
  ],
  "metadata": {
    "kernelspec": {
      "display_name": "Python 3 (ipykernel)",
      "language": "python",
      "name": "python3"
    },
    "language_info": {
      "codemirror_mode": {
        "name": "ipython",
        "version": 3
      },
      "file_extension": ".py",
      "mimetype": "text/x-python",
      "name": "python",
      "nbconvert_exporter": "python",
      "pygments_lexer": "ipython3",
      "version": "3.11.8"
    },
    "colab": {
      "provenance": []
    }
  },
  "nbformat": 4,
  "nbformat_minor": 5
}