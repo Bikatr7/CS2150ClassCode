{
  "cells": [
    {
      "cell_type": "markdown",
      "metadata": {
        "id": "5vM4h5kHGKy0"
      },
      "source": [
        "# CS 2150 Computer Project 2: Predicates, Quantifiers & Induction\n",
        "\n",
        "**Goals:** Experiment with predicates, quantifiers, and proof by induction.\n",
        "\n",
        "**Lecture References:** L02, L03, L04\n",
        "\n",
        "**Instructions:** Carefully read all of the text in the Markdown cells; these give you information about the assignment. **Numbered, heading-level text in the document describe the project deliverables.**\n",
        "\n",
        "**Note: Include each deliverable directly underneath the markdown cell which asks for it.**\n",
        "\n",
        "**Note also: when we receive your notebook, the first thing we will do is clear its memory and run it from the beginning.** You are responsible for ensuring that when we do this, the entire notebook executes and computes the desired results. Notebooks which fail to execute will typically receive low grades."
      ]
    },
    {
      "cell_type": "markdown",
      "source": [
        "---\n",
        "# Part 1\n",
        "# Predicates and Quantifiers\n",
        "\n",
        "##Deliverable \\#1\n",
        "\n",
        "---\n",
        "In this deliverable you will learn more about Predicates, Quantifiers, and therefore some semantics. You will read a sentence and then provide a formal statement that is the equivalent of the sentence. This is done by declaring the\n",
        "\n",
        "---\n",
        "\n",
        "Example:\n",
        "\n",
        "All Crows are black\n",
        "\n",
        "$∀$\n",
        "\n",
        "c = Crow\n",
        "\n",
        "B(c) = is black\n",
        "\n",
        "$$∀c B(c) $$\n",
        "\n",
        "written in LaTex as:\n",
        "\n",
        "```\n",
        "$$\\forall c B(c) $$\n",
        "```\n",
        "---\n",
        "LaTex embeds:\n",
        "\n",
        "\\forall (For All)\n",
        "\n",
        "\\exists (There Exists)\n",
        "\n",
        "\\Rightarrow (Implication)\n",
        "\n",
        "\\neg (Negation, Logical Not)"
      ],
      "metadata": {
        "id": "3mKJjH0zTbcG"
      }
    },
    {
      "cell_type": "markdown",
      "source": [
        "##TODO##\n",
        "Write the following sentences as a **Formal Quantified Predicate Statements**, as in the example above\n",
        "\n",
        "1. There Exists a penguin wearing a tuxedo.\n",
        "\n",
        "2. Not All penguins wear tuxedos\n",
        "\n",
        "3. For all animals, If it is wearing a tuxedo it is a penguin.\n",
        "\n"
      ],
      "metadata": {
        "id": "iZi_w5Q3WvpS"
      }
    },
    {
      "cell_type": "markdown",
      "source": [
        "Enter into **Each** of the following text boxes:\n",
        "\n",
        "\n",
        "*   The domain\n",
        "*   Predicate definitions\n",
        "*   Full Formal Statement\n",
        "---\n",
        "\n",
        "\n"
      ],
      "metadata": {
        "id": "YOzZcof2Y_NC"
      }
    },
    {
      "cell_type": "markdown",
      "source": [
        "1.\n"
      ],
      "metadata": {
        "id": "knFugU6aZFCo"
      }
    },
    {
      "cell_type": "markdown",
      "source": [
        "2."
      ],
      "metadata": {
        "id": "MrsW3ZgNZIIG"
      }
    },
    {
      "cell_type": "markdown",
      "source": [
        "3."
      ],
      "metadata": {
        "id": "0nUDIR_dZIza"
      }
    },
    {
      "cell_type": "markdown",
      "source": [
        "---\n",
        "# Part 2\n",
        "# Induction\n",
        "\n",
        "Section 5.1 of the textbook covers Induction Proofs. In this part, you will write a mathematical proof by induction as well as a computer program as a proof."
      ],
      "metadata": {
        "id": "KvV5d06VHp9E"
      }
    },
    {
      "cell_type": "markdown",
      "source": [
        "\n",
        "Prove that the summation of the first n numbers equals the closed form solution via induction.\n",
        "\n",
        "That is:\n",
        "\n",
        "$$ \\sum_{i=1}^{n}(i) = \\frac{n(n+1)}{2} $$\n",
        "\n",
        "First: using Formal Mathematical Notation\n",
        "\n",
        "Second: using python code\n"
      ],
      "metadata": {
        "id": "vd0ErgHJH6DA"
      }
    },
    {
      "cell_type": "markdown",
      "source": [
        "## Useful Latex tips\n",
        "\n",
        "\\frac{1}{2} = $\\frac{1}{2}$\n",
        "\n",
        "\\sum_{i=0}^{n}(i) = $\\sum_{i=0}^{n}(i)$\n",
        "\n",
        "\\rightarrow = $\\rightarrow$\n",
        "\n",
        "Additional information can be found at: https://www.overleaf.com/learn/latex/Theorems_and_proofs"
      ],
      "metadata": {
        "id": "siwQkgQSH_GV"
      }
    },
    {
      "cell_type": "markdown",
      "source": [
        "---\n",
        "# Deliverable #2"
      ],
      "metadata": {
        "id": "aXNGxutgRrtv"
      }
    },
    {
      "cell_type": "markdown",
      "source": [
        "## Enter your proof here using Latex embedded in the Markdown\n",
        "\n",
        "Given:\n",
        "\n",
        "Want to Show:\n",
        "\n",
        "Proof:"
      ],
      "metadata": {
        "id": "mSeBJPM7H_7k"
      }
    },
    {
      "cell_type": "markdown",
      "source": [
        "---\n",
        "# Deliverable #3"
      ],
      "metadata": {
        "id": "uTGRI_lMRt66"
      }
    },
    {
      "cell_type": "code",
      "source": [
        "# Python Script Proving Sum of the First n Natural Numbers  = n(n+1)/2"
      ],
      "metadata": {
        "id": "ol3WPlvCIG11"
      },
      "execution_count": null,
      "outputs": []
    },
    {
      "cell_type": "markdown",
      "source": [
        "## Deliverable \\#4\n",
        "Explain in your own words why the two methods used in Deliverable 4 are equivalent."
      ],
      "metadata": {
        "id": "rITolR35IHpB"
      }
    },
    {
      "cell_type": "markdown",
      "source": [
        "Enter your explanation here:\n",
        "---"
      ],
      "metadata": {
        "id": "J2uSCF0cIOFf"
      }
    },
    {
      "cell_type": "markdown",
      "source": [
        "[link text](https://)---\n",
        "If that was interesting to you please look into the Curry-Howard Correspondence that mathematical proofs and computer programs have a direct correspondence.\n",
        "\n",
        "https://en.wikipedia.org/wiki/Curry%E2%80%93Howard_correspondence"
      ],
      "metadata": {
        "id": "9mpua5dTIX1L"
      }
    }
  ],
  "metadata": {
    "kernelspec": {
      "display_name": "Python 3",
      "language": "python",
      "name": "python3"
    },
    "language_info": {
      "codemirror_mode": {
        "name": "ipython",
        "version": 3
      },
      "file_extension": ".py",
      "mimetype": "text/x-python",
      "name": "python",
      "nbconvert_exporter": "python",
      "pygments_lexer": "ipython3",
      "version": "3.8.5"
    },
    "colab": {
      "provenance": []
    }
  },
  "nbformat": 4,
  "nbformat_minor": 0
}