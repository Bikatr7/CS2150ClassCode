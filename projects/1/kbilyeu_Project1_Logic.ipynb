{
  "cells": [
    {
      "cell_type": "markdown",
      "metadata": {
        "id": "5vM4h5kHGKy0"
      },
      "source": [
        "# CS 2150 Computer Project 1: Logic\n",
        "\n",
        "**Goals:** Experiment with propositional logic, all while gaining experience in Python and Jupyter.\n",
        "\n",
        "**Lecture References:** L01, L02\n",
        "\n",
        "**Instructions:** Carefully read all of the text in the Markdown cells; these give you information about the assignment. **Numbered, heading-level text in the document describe the project deliverables.**\n",
        "\n",
        "**Note: Include each deliverable directly underneath the markdown cell which asks for it.**\n",
        "\n",
        "**Note also: when we receive your notebook, the first thing we will do is clear its memory and run it from the beginning.** You are responsible for ensuring that when we do this, the entire notebook executes and computes the desired results. Notebooks which fail to execute will typically receive low grades."
      ]
    },
    {
      "cell_type": "markdown",
      "source": [
        "# **IMPORTANT**\n",
        "##**Saving and Submitting Your Work**\n",
        "When you make changes to this juptyer notebook, your changes are **not** automatically saved to the file on your drive. You will need to save and then download a copy of the completed notebook and use that copy as your submission."
      ],
      "metadata": {
        "id": "UjDsaT-Y61_H"
      }
    },
    {
      "cell_type": "markdown",
      "metadata": {
        "id": "grH6UrYxGKy6"
      },
      "source": [
        "# Logic\n",
        "\n",
        "Understanding logic is very valuable when programming.\n",
        "\n",
        "We'll first have a look at an overly complex function. Your task will be to analyze the function and provide a representation of its logic in the form of a set of propositional statements. An example is in order. For the following function:"
      ]
    },
    {
      "cell_type": "code",
      "execution_count": null,
      "metadata": {
        "id": "ttLAJgzTGKy6"
      },
      "outputs": [],
      "source": [
        "def example(a,b,c,d):\n",
        "    if a:\n",
        "        if b:\n",
        "            return True\n",
        "    if not (c and d):\n",
        "        return True\n",
        "    return False"
      ]
    },
    {
      "cell_type": "markdown",
      "metadata": {
        "id": "Xtdy2l5uGKy6"
      },
      "source": [
        "the logic can be represented as the propositional statement:\n",
        "\n",
        "$$(a\\land b)\\lor \\lnot(c\\land d).$$\n",
        "\n",
        "The LaTeX that would render this is:\n",
        "\n",
        "```\n",
        "$$(a \\land b) \\lor \\lnot(c \\land d)$$\n",
        "```\n",
        "The deliverable below will not require any other markup.\n",
        "\n",
        "## Deliverable \\#1: Give a Propositional Statement from Code\n",
        "\n",
        "Your task is to analyze the following function and provide a propositional statement that matches its logic:"
      ]
    },
    {
      "cell_type": "code",
      "execution_count": null,
      "metadata": {
        "id": "CL-hFyrLGKy6"
      },
      "outputs": [],
      "source": [
        "def aWildFunctionAppears(p, q, r, s):\n",
        "    if not s and not r:\n",
        "        if p and r:\n",
        "            return True\n",
        "        if p:\n",
        "            return True\n",
        "        if q and r:\n",
        "            return True\n",
        "        if q:\n",
        "            return True\n",
        "        return False\n",
        "    return False"
      ]
    },
    {
      "cell_type": "markdown",
      "metadata": {
        "id": "GWVmNQMfGKy7"
      },
      "source": [
        "---\n",
        "\n",
        "Use this markdown cell to provide your answer for Deliverable \\#1. Replace the $(\\cdot)$ with LaTeX code to give this answer.\n",
        "\n",
        "$$(\\cdot)$$\n",
        "\n",
        "---"
      ]
    },
    {
      "cell_type": "markdown",
      "metadata": {
        "id": "DNW1yR4mGKy8"
      },
      "source": [
        "## Deliverable \\#2: Simplify the Code by Simplifying the Propositional Statement\n",
        "\n",
        "Your second task is to use the logical equivalences given in  Table 2, 6, 7, and 8 from the book to simplify the statement from Deliverable \\#1, and then provide a new, simpler, and equivalent function."
      ]
    },
    {
      "cell_type": "markdown",
      "metadata": {
        "id": "TG9QfbA0GKy8"
      },
      "source": [
        "---\n",
        "\n",
        "Use this markdown cell to provide your simplified propositional statement. Replace the $(\\cdot)$ with LaTeX code to give this answer.\n",
        "\n",
        "$$(\\cdot)$$\n",
        "\n",
        "---"
      ]
    },
    {
      "cell_type": "markdown",
      "source": [
        "In the following markdown cell, write code that results in an output of the simplified propositional statement you found above."
      ],
      "metadata": {
        "id": "250whqoLa8HQ"
      }
    },
    {
      "cell_type": "code",
      "execution_count": null,
      "metadata": {
        "id": "_1LKE6_HGKy8"
      },
      "outputs": [],
      "source": [
        "def aCalmFunctionEmerges(p, q, r, s):\n",
        "    # TODO: Implement your propositional statement\n",
        "    None"
      ]
    },
    {
      "cell_type": "markdown",
      "source": [
        "## Deliverable \\#3: Code the statement ##\n",
        "Your third task: write code for a given propositional statement."
      ],
      "metadata": {
        "id": "W6nq2mSywCUP"
      }
    },
    {
      "cell_type": "markdown",
      "source": [
        "---\n",
        "Statement to Code: $$ p\\land ((q \\land s)  \\lor (\\lnot r \\land \\lnot s) \\lor (\\lnot q\\land r))$$\n",
        "---"
      ],
      "metadata": {
        "id": "Qt9VxfF2wZHV"
      }
    },
    {
      "cell_type": "code",
      "source": [
        "def anotherFunProposition(p, q, r, s):\n",
        "  # TODO: Implement the above propositional statement\n",
        "  None"
      ],
      "metadata": {
        "id": "8a6j-QELwYW5"
      },
      "execution_count": null,
      "outputs": []
    },
    {
      "cell_type": "markdown",
      "source": [
        "##Deliverable \\#4 ##\n",
        "\n",
        "Using a Truth Table find a set of values for p, q, r, and s that satisfy the above propositional statement.\n",
        "\n"
      ],
      "metadata": {
        "id": "wKNHcBdzxSRG"
      }
    },
    {
      "cell_type": "code",
      "source": [
        "# TODO: Change the values (0 for False 1 for True) for p, q, r, and s to satisfy the above coded statement. Any set of values that satisfy the statement to be True are valid.\n",
        "p = 0\n",
        "q = 0\n",
        "r = 0\n",
        "s = 0\n",
        "print(anotherFunProposition(p, q, r,s))"
      ],
      "metadata": {
        "id": "nSI6nvqRxS5P",
        "colab": {
          "base_uri": "https://localhost:8080/"
        },
        "outputId": "4de13801-374b-485c-aed1-b8ab870b818c"
      },
      "execution_count": null,
      "outputs": [
        {
          "output_type": "stream",
          "name": "stdout",
          "text": [
            "None\n"
          ]
        }
      ]
    }
  ],
  "metadata": {
    "kernelspec": {
      "display_name": "Python 3",
      "language": "python",
      "name": "python3"
    },
    "language_info": {
      "codemirror_mode": {
        "name": "ipython",
        "version": 3
      },
      "file_extension": ".py",
      "mimetype": "text/x-python",
      "name": "python",
      "nbconvert_exporter": "python",
      "pygments_lexer": "ipython3",
      "version": "3.8.5"
    },
    "colab": {
      "provenance": []
    }
  },
  "nbformat": 4,
  "nbformat_minor": 0
}