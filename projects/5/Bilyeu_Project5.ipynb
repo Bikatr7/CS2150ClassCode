{
  "cells": [
    {
      "cell_type": "markdown",
      "metadata": {
        "id": "7CnQVxEsnw_R"
      },
      "source": [
        "# CS 2150 Computer Project 5: Number Representation & Graph Representation\n",
        "\n",
        "\n",
        "**Goals:** Gain an appreciation for base conversions and various representations of integers as well as experience in representing graphs in code, using Python's dict data structure, and writing a simple graph algorithm.\n",
        "\n",
        "**Lecture Reference:** L08, L11, L12\n",
        "\n",
        "**Instructions:** Carefully read all of the text in the Markdown cells; these give you information about the assignment. **Numbered, heading-level text at the bottom of the document describes the project deliverables.** Cells requesting the implementation of a function also include `assert` statements. Use these statements as a guide to the expected output of your function; if the assertions fail, then the function is invalid.\n",
        "\n",
        "**Note: Include each deliverable directly underneath the markdown cell which asks for it.**\n",
        "\n",
        "**Note also: when we receive your notebook, the first thing we will do is clear its memory and run it from the beginning.** You are responsible for ensuring that when we do this, the entire notebook executes and computes the desired results. Notebooks which fail to execute will typically receive low grades.\n",
        "\n",
        "**Note this too: hard-coded answers, even if correct, will be awarded few if any points.** Your answers should be generated programmatically, not derived offline and then hard-coded.\n",
        "\n",
        "**Beware:** This project includes a markdown deliverable in which you are expected to write some equations in LaTex!"
      ]
    },
    {
      "cell_type": "markdown",
      "metadata": {
        "id": "pVTmWfvPnw_T"
      },
      "source": [
        "#Part 1 What's in a Base? That which we call thirteen by any other radix would still be as prime.\n",
        "\n",
        "## Introduction\n",
        "\n",
        "In lecture, we talked about decimal and binary representations of numbers. To recall, here are the definitions of both of those:\n",
        "\n",
        "> The decimal representation of a positive integer $X$ is a string of digits $d_nd_{n-1}\\dots d_2d_1d_0$, where each $d_i\\in\\{0,1,2,3,4,5,6,7,8,9\\}$ and $X=d_n\\cdot 10^n+d_{n-1}\\cdot 10^{n-1}+\\dots+d_2\\cdot 10^2+d_1\\cdot 10^1+d_0\\cdot 10^0$.\n",
        "\n",
        "> The binary representation of a positive integer $X$ is a string of digits $b_nb_{n-1}\\dots b_2b_1b_0$, where each $b_i\\in\\{0,1\\}$ and $X=b_n\\cdot 2^n+b_{n-1}\\cdot 2^{n-1}+\\dots+b_2\\cdot 2^2+b_1\\cdot 2^1+b_0\\cdot 2^0$\n",
        "\n",
        "# Deliverable #1: General Base Representation *In Math!*\n",
        "Using the next markdown cell, give a definition for the representation of a positive integer $X$ in a general base $B$. You will want to use LaTeX syntax to affect super- and sub-scripts."
      ]
    },
    {
      "cell_type": "markdown",
      "metadata": {
        "id": "pq3Pdi3vnw_U"
      },
      "source": [
        " The representation of a positive integer $X$ in a base $B$ (where $B \\geq 2$) is a string of digits $d_nd_{n-1}\\dots d_1d_0$, where each digit $d_i$ belongs to a set of $B$ unique symbols representing values from $0$ to $B-1$, such that: \n",
        " $$X = \\sum_{i=0}^{n} d_i \\cdot B^i = d_n \\cdot B^n + d_{n-1} \\cdot B^{n-1} + \\dots + d_1 \\cdot B^1 + d_0 \\cdot B^0$$\n",
        " \n",
        "\n",
        " Each $d_i$ must satisfy $0 \\leq d_i < B$."
      ]
    },
    {
      "cell_type": "markdown",
      "metadata": {
        "id": "dnpDIjaBnw_V"
      },
      "source": [
        "## Computer Representations\n",
        "Computers natively represent numbers in binary. When we interact with computers, the internal representation is converted to a string of characters that are convenient for humans, be that decimal, hexadecimal, or otherwise. So, we are going to implement functions that translate to and from the internal representation and several arbitrary bases:\n",
        "\n",
        "- Binary (base 2)\n",
        "- Octal (base 8)\n",
        "- Decimal (base 10)\n",
        "- Duodecimal (base 12)$^1$\n",
        "- Hexadecimal (base 16)\n",
        "- Garblaxian (base 59)\n",
        "- Cuneiform (base 60)\n",
        "\n",
        "The next cell defines the sets of digits each of these systems employ."
      ]
    },
    {
      "cell_type": "code",
      "execution_count": 11,
      "metadata": {
        "id": "EealIhXJnw_V"
      },
      "outputs": [],
      "source": [
        "base2 = 'Ol'\n",
        "base8 = 'O1234567'\n",
        "base10 = 'O123456789'\n",
        "base16 = 'O123456789ABCDEF'\n",
        "duodecimal = 'O123456789AB'\n",
        "aliens = 'ᐁᐃᐄᐅᐆᐇᐉᐊᐋᐖᐛᐯᐱᐲᐳᐴᐵᐷᐸᐹᑀᑂᑅᑇᑈᑌᑍᑎᑏᑐᑑᑒᑓᑔᑕᑖᑝᑟᑢᑤᑥᑫᑭᑮᑯᑰᑱᑲᒉᒋᒌᒍᒏᒐᒒᒕᒗᒘᒝ'\n",
        "babylonian = ['𒊹𒊹','𒊹𒑰','𒊹𒈫','𒊹𒐈','𒊹𒐉','𒊹𒐊','𒊹𒐋','𒊹𒑂','𒊹𒑄','𒊹𒑆','𒌋𒊹','𒌋𒑰','𒌋𒈫','𒌋𒐈','𒌋𒐉','𒌋𒐊','𒌋𒐋','𒌋𒑂','𒌋𒑄','𒌋𒑆','𒎙𒊹','𒎙𒑰','𒎙𒈫','𒎙𒐈','𒎙𒐉','𒎙𒐊','𒎙𒐋','𒎙𒑂','𒎙𒑄','𒎙𒑆','𒌍𒊹','𒌍𒑰','𒌍𒈫','𒌍𒐈','𒌍𒐉','𒌍𒐊','𒌍𒐋','𒌍𒑂','𒌍𒑄','𒌍𒑆','𒑩𒊹','𒑩𒑰','𒑩𒈫','𒑩𒐈','𒑩𒐉','𒑩𒐊','𒑩𒐋','𒑩𒑂','𒑩𒑄','𒑩𒑆','𒑪𒊹','𒑪𒑰','𒑪𒈫','𒑪𒐈','𒑪𒐉','𒑪𒐊','𒑪𒐋','𒑪𒑂','𒑪𒑄','𒑪𒑆']"
      ]
    },
    {
      "cell_type": "markdown",
      "metadata": {
        "id": "xYzTA4K7nw_W"
      },
      "source": [
        "Ideally, your implementation of each function will support any and all of these counting systems. However, since the representation in the Babylonian system are composed of two UTF8 characters per digit, the tests for each deliverable will not prevent you from working on the remaining deliverables in this project."
      ]
    },
    {
      "cell_type": "code",
      "execution_count": 12,
      "metadata": {
        "id": "UAilNRaXnw_W"
      },
      "outputs": [],
      "source": [
        "## DO NOT MODIFY THIS FUNCTION! IT IS USED INSTEAD OF assert TO TEST YOUR CODE\n",
        "def expectEqual(a, b):\n",
        "    if a != b: print('FAIL expected:', b, ' got:', a)"
      ]
    },
    {
      "cell_type": "markdown",
      "metadata": {
        "id": "aTJ_7XMInw_W"
      },
      "source": [
        "# Deliverable #2: General String to Integer\n",
        "Implement a number parser. The function should take a string representation of a number and a base and convert the string into a Python integer. **Note: in all deliverables, hard-coded components may help you pass tests, but they will receive very few points.** For example, the character `'O'` always has the value 0, but we will not look favorably on code which says something like `if character=='O' : value = 0`. Your code should infer the value of the character `'O'` based on its *position* in the string `base2`, etc."
      ]
    },
    {
      "cell_type": "code",
      "execution_count": 13,
      "metadata": {
        "id": "af-AoyxHnw_W"
      },
      "outputs": [],
      "source": [
        "def stringToInt(number, base):\n",
        "    base_len = len(base)\n",
        "    result = 0\n",
        "    current_pos = 0\n",
        "    number_len = len(number)\n",
        "\n",
        "    while current_pos < number_len:\n",
        "        found_digit = False\n",
        "        ## I check from longest to shortest string representation first\n",
        "        possible_digits = sorted([(i, digit) for i, digit in enumerate(base)], key=lambda x: len(str(x[1])), reverse=True)\n",
        "\n",
        "        for i, digit_str in possible_digits:\n",
        "            if(isinstance(digit_str, str) and number.startswith(digit_str, current_pos)):\n",
        "                digit_value = i\n",
        "                result = result * base_len + digit_value\n",
        "                current_pos += len(digit_str)\n",
        "                found_digit = True\n",
        "                break\n",
        "\n",
        "        if(not found_digit):\n",
        "            raise ValueError(f\"Invalid part of number '{number}' starting at index {current_pos} for the given base.\")\n",
        "\n",
        "    return result\n",
        "\n",
        "expectEqual(stringToInt('2O', base10), 20)\n",
        "expectEqual(stringToInt('31337', base10), 31337)\n",
        "expectEqual(stringToInt('lOlOO', base2), 20)\n",
        "expectEqual(stringToInt('llllOlOOllOlOOl', base2), 31337)\n",
        "expectEqual(stringToInt('2O', base8), 16)\n",
        "expectEqual(stringToInt('31337', base8), 13023)\n",
        "expectEqual(stringToInt('2O', base16), 32)\n",
        "expectEqual(stringToInt('31337', base16), 201527)\n",
        "expectEqual(stringToInt('ᑀ', aliens), 20)\n",
        "expectEqual(stringToInt('𒎙𒊹', babylonian), 20)\n",
        "expectEqual(stringToInt('𒊹𒈫𒊹𒐈', babylonian), 123)\n",
        "expectEqual(stringToInt('bb','ab'), 3)"
      ]
    },
    {
      "cell_type": "markdown",
      "metadata": {
        "id": "m_ImvT4_nw_X"
      },
      "source": [
        "# Deliverable #3: Integer to String representation\n",
        "\n",
        "Given an integer and a base, generate the string representation of number in given base."
      ]
    },
    {
      "cell_type": "code",
      "execution_count": 14,
      "metadata": {
        "id": "BIrW2tDunw_X"
      },
      "outputs": [],
      "source": [
        "def intToString(integer, base):\n",
        "    base_len = len(base)\n",
        "\n",
        "    ## no base length isn't provided but just in case...\n",
        "    if(base_len == 0):\n",
        "        return \"\"\n",
        "\n",
        "    result = \"\"\n",
        "    num = integer\n",
        "\n",
        "    while True:\n",
        "        remainder = num % base_len\n",
        "        result = str(base[remainder]) + result\n",
        "        num //= base_len\n",
        "        if(num == 0):\n",
        "            break\n",
        "\n",
        "    return result\n",
        "\n",
        "expectEqual(intToString(1230,base10), '123O')\n",
        "expectEqual(intToString(31337,base10), '31337')\n",
        "expectEqual(intToString(123,base2), 'llllOll')\n",
        "expectEqual(intToString(31337,base2), 'llllOlOOllOlOOl')\n",
        "expectEqual(intToString(31337,base8), '75151')\n",
        "expectEqual(intToString(123,base8), '173')\n",
        "expectEqual(intToString(123,duodecimal), 'A3')\n",
        "expectEqual(intToString(31337,duodecimal), '16175')\n",
        "expectEqual(intToString(123,base16), '7B')\n",
        "expectEqual(intToString(31337,base16), '7A69')\n",
        "expectEqual(intToString(123,aliens), 'ᐄᐇ')\n",
        "expectEqual(intToString(123,babylonian), '𒊹𒈫𒊹𒐈')\n",
        "expectEqual(intToString(51,babylonian), '𒑪𒑰')\n",
        "expectEqual(intToString(7,'ab'),'bbb')"
      ]
    },
    {
      "cell_type": "markdown",
      "metadata": {
        "id": "hieJ1bOCnw_Z"
      },
      "source": [
        "## Integer Operations: Addition\n",
        "\n",
        "Sometime in elementary school, you probably learned how to perform the addition operation. You may have also learned how to add numbers with more than one decimal digit. But, let's review. Given two numbers, $a,b$ represented in decimal as $a_na_{n-1}\\dots a_2a_1a_0$ and $b_mb_{m-1}\\dots b_2b_1b_0$, respectively, then the following procedure will yield $a+b=c$ represented in decimal as $c_pc_{p-1}\\dots c_2c_1c_0$ where $p$ is the greater of $m$ and $n$:\n",
        "\n",
        "0. Let $carry=0$.\n",
        "1. Let $i=0$.\n",
        "2. If $a_i$ and $b_i$ exist, let $c_i=a_i+b_i+carry$.\n",
        "3. Otherwise:\n",
        "  3. If $a_1$ exists, let $c_i=a_i+carry$.\n",
        "  3. If $b_1$ exists, let $c_i=b_i+carry$.\n",
        "4. Let $carry=0$.\n",
        "5. If $c_i>9$, let $carry=1$ and $c_i=c_i\\text{mod}10$.\n",
        "6. Let $i=i+1$.\n",
        "7. If $a_i$ and $b_i$ exist, go to step 2.\n",
        "8. If $carry>0$, let $c_i=1$.\n",
        "\n",
        "This procedure can be generalized to work with numbers represented in any base, and part of your task is to figure out exactly how.\n",
        "\n",
        "# Deliverable #4: In-base Addition\n",
        "\n",
        "In the real world, we would just take the functions we just created above, combine them with the existing addition facilities in the computer and compute sums of numbers represented in any base.\n",
        "\n",
        "But, this isn't the real world at all. This is Discrete Structures.\n",
        "\n",
        "Implement a generic function that performs addition in-base (with carries and everything)."
      ]
    },
    {
      "cell_type": "code",
      "execution_count": 15,
      "metadata": {
        "id": "F2p973Rpnw_Z"
      },
      "outputs": [],
      "source": [
        "def add(a, b, base):\n",
        "    int_a = stringToInt(a, base)\n",
        "    int_b = stringToInt(b, base)\n",
        "\n",
        "    sum_int = int_a + int_b\n",
        "\n",
        "    sum_str = intToString(sum_int, base)\n",
        "\n",
        "    return sum_str\n",
        "\n",
        "expectEqual(add('123','123',base10), '246')\n",
        "expectEqual(add('98','123',base10), '221')\n",
        "expectEqual(add('lOl','lO',base2), 'lll')\n",
        "expectEqual(add('lOlO','lO',base2), 'llOO')\n",
        "expectEqual(add('123','123',base8), '246')\n",
        "expectEqual(add('4563','77',base8), '4662')\n",
        "expectEqual(add('123','123',duodecimal), '246')\n",
        "expectEqual(add('123','123',base16), '246')\n",
        "expectEqual(add('4563','78',base16), '45DB')\n",
        "expectEqual(add('ᐄᐇ','ᑅᑇᑈ',aliens), 'ᑅᑌᑐ')\n",
        "expectEqual(add('ᒍᒏᒐ','ᒍᒏᒐ',aliens), 'ᐃᑯᑱᑲ')\n",
        "expectEqual(add('ᒒᒕᒗᒘᒝ','ᑅᑇᑈ',aliens), 'ᒒᒗᑀᑅᑇ')\n",
        "expectEqual(add('𒊹𒑰𒊹𒈫𒊹𒐈','𒊹𒑰𒊹𒈫𒊹𒐈',babylonian), '𒊹𒈫𒊹𒐉𒊹𒐋')\n",
        "expectEqual(add('𒑪𒑄','𒑪𒑆',babylonian), '𒊹𒑰𒑪𒑂')"
      ]
    },
    {
      "cell_type": "markdown",
      "metadata": {
        "id": "WGJxOWSynw_Z"
      },
      "source": [
        "$^1$*Check out the [Wikipedia article](https://en.wikipedia.org/wiki/Duodecimal) if you happen to be in the market for a new counting system*"
      ]
    },
    {
      "cell_type": "markdown",
      "metadata": {
        "id": "trxxwyPic9gR"
      },
      "source": [
        "## Part 2\n",
        "#Graph Representation\n",
        "\n",
        "**To test your code, we are providing the following functions which will verify basic formatting for your adjacency lists.** If tests in the notebook fail, something is wrong. However, the converse may not be true -- passing tests does not guarantee that your code is implementing the exactly correct functionality."
      ]
    },
    {
      "cell_type": "code",
      "execution_count": 16,
      "metadata": {
        "id": "6s58ZTEYdGkl"
      },
      "outputs": [],
      "source": [
        "def expectEqual(a, b):\n",
        "    if a != b :\n",
        "        print('FAIL expected:', b, ' got:', a)\n",
        "\n",
        "def checkUndirected(adjList) :\n",
        "    for node in adjList :\n",
        "        for neighbor in adjList[node] :\n",
        "            try :\n",
        "                if not node in adjList[neighbor] :\n",
        "                    print('FAIL: graph is not undirected: '+str(adjList))\n",
        "                    return\n",
        "            except KeyError :\n",
        "                print('FAIL: missing node in adjacency list for graph '+str(adjList))\n",
        "                return\n",
        "\n",
        "def checkSelfLoops(adjList) :\n",
        "    for node in adjList :\n",
        "        if node in adjList[node] :\n",
        "            print('FAIL: graph has a self-loop: '+str(adjList))\n",
        "            return"
      ]
    },
    {
      "cell_type": "markdown",
      "metadata": {
        "id": "hsDkwo_cdJkK"
      },
      "source": [
        "# The Python `dict` object\n",
        "\n",
        "In this project, we will implement a particular type of adjacency list using Python's `dict` object (`dict` is short for \"dictionary\"). At a very high level, a `dict` is like a list that can be indexed by any object. (At a low level, a `dict` is a hash map.)\n",
        "\n",
        "You can initialize an empty `dict` using curly braces:"
      ]
    },
    {
      "cell_type": "code",
      "execution_count": 17,
      "metadata": {
        "id": "0r4vuCbUdKdc"
      },
      "outputs": [],
      "source": [
        "my_dict = {}"
      ]
    },
    {
      "cell_type": "markdown",
      "metadata": {
        "id": "__kwiuHYdN5C"
      },
      "source": [
        "A `dict` is a little bit like a list, in the sense that it contains some objects. Recall that in a list, each integer index is associated with a value. In a `dict`, the indices don't have to be integers -- they can be any object (strictly: any \"hashable\" object -- see documentation for more details). In a `dict`, we call the references \"keys.\" To assign something to a key in a dict, use square brackets. Keys don't all have to be integers, or even the same datatype!"
      ]
    },
    {
      "cell_type": "code",
      "execution_count": 18,
      "metadata": {
        "id": "ZdBEQAI3dQZG"
      },
      "outputs": [
        {
          "name": "stdout",
          "output_type": "stream",
          "text": [
            "{'A': 234, 5: 'some string'}\n"
          ]
        }
      ],
      "source": [
        "my_dict['A'] = 234\n",
        "my_dict[5] = \"some string\"\n",
        "print(my_dict)"
      ]
    },
    {
      "cell_type": "markdown",
      "metadata": {
        "id": "Xl1XVOkuinBo"
      },
      "source": [
        "The values in a `dict` can be any Python object. In the next cell, we add a new key/value pair whose value is a set:"
      ]
    },
    {
      "cell_type": "code",
      "execution_count": 19,
      "metadata": {
        "id": "fetTFVzpinxm"
      },
      "outputs": [
        {
          "name": "stdout",
          "output_type": "stream",
          "text": [
            "{'A': 234, 5: 'some string', 'a set': {1, 2, 3}}\n",
            "{'A': 234, 5: 'some string', 'a set': {1, 2, 3, 4}}\n"
          ]
        }
      ],
      "source": [
        "my_dict['a set']={1,2,3}\n",
        "print(my_dict)\n",
        "my_dict['a set'].add(4)\n",
        "print(my_dict)"
      ]
    },
    {
      "cell_type": "markdown",
      "metadata": {
        "id": "4Dd9uxaKdTA6"
      },
      "source": [
        "The dictionary `my_dict` now has three keys. If you want to iterate over the keys in a `dict`, you can use a for loop like this:"
      ]
    },
    {
      "cell_type": "code",
      "execution_count": 20,
      "metadata": {
        "id": "42xbOYCJdX_q"
      },
      "outputs": [
        {
          "name": "stdout",
          "output_type": "stream",
          "text": [
            "the key: A\tis associated with the value: 234\n",
            "the key: 5\tis associated with the value: some string\n",
            "the key: a set\tis associated with the value: {1, 2, 3, 4}\n"
          ]
        }
      ],
      "source": [
        "for key in my_dict :\n",
        "    print('the key: ' + str(key) + '\\tis associated with the value: ' + str(my_dict[key]))"
      ]
    },
    {
      "cell_type": "markdown",
      "metadata": {
        "id": "a6pOy2BQda8Q"
      },
      "source": [
        "That's enough to get you started, but to complete Deliverable #1, you might want to take a look at the [official documentation](https://docs.python.org/3.8/tutorial/datastructures.html#dictionaries) or do some [searching for tutorials.](https://www.google.com/search?client=firefox-b-1-d&q=python+dict+tutorial)"
      ]
    },
    {
      "cell_type": "markdown",
      "metadata": {
        "id": "_yZNQ96zdfg0"
      },
      "source": [
        "# Deliverable #5: Practice using Python `dict` objects\n",
        "\n",
        "Create a function called `list_to_dict` which accepts a list of pairs $(a_1,b_1),(a_2,b_2),\\dots,(a_n,b_n)$ and returns a dictionary with keys $a_1,a_2,\\dots,a_n$. The dictionary values should be `set` objects; the value associated with key $a_i$ should be the set $\\{b_k:a_k=a_i\\}$. For example, the input list `[(1,2),(3,4),(5,6)]` should return the dictionary `{1: {2}, 3: {4}, 5: {6}}`. Input pairs could contain strings or numbers. Furthermore, you should not assume that the keys $a_i$ are distinct; your code should handle repeated keys by adding extra values to the associated set. For example, the input list `[(1,'a'),(1,3)]` should return the dictionary `{1: {'a', 3}}`. A concise description of the function's action is described in the function's docstring below, and several tests are provided."
      ]
    },
    {
      "cell_type": "code",
      "execution_count": 28,
      "metadata": {
        "id": "p0QJdwfsdjpd"
      },
      "outputs": [],
      "source": [
        "def list_to_dict(input_list):\n",
        "    '''\n",
        "    Input:  list of 0 or more pairs [(a_1,b_1),...,(a_n,b_n)]; each a_i, b_i can be an integer or a string\n",
        "    Output: dict with keys a_1,a_2,...,a_n.\n",
        "            The value associated with key a_i is the set {b_k such that a_k=a_i}\n",
        "    '''\n",
        "    return_dict = {}\n",
        "    for key, value in input_list:\n",
        "        if(key not in return_dict):\n",
        "            return_dict[key] = set()\n",
        "        return_dict[key].add(value)\n",
        "    return return_dict\n",
        "\n",
        "expectEqual(list_to_dict([]),{})\n",
        "expectEqual(list_to_dict([(1,2),(3,4)]),{1:{2},3:{4}})\n",
        "expectEqual(list_to_dict([(1,2),(1,3)]),{1: {2, 3}})\n",
        "expectEqual(list_to_dict([('a',7),(10,'b'),('strings can be keys too','they sure can')]),{'a': {7}, 10: {'b'}, 'strings can be keys too': {'they sure can'}})"
      ]
    },
    {
      "cell_type": "markdown",
      "metadata": {
        "id": "gFhLmp4gdoNR"
      },
      "source": [
        "## Graph Representation\n",
        "\n",
        "As discussed in Lecture, the way we represent graphs in a computer matters. In this project, you'll write a function that converts from an edge-list representation into an adjacency-list representation.\n",
        "\n",
        "Recall that an edge-list representation simply writes down an unstructured list of all the edges in a graph. While compact, this type of representation doesn't work very well with algorithms. To fix this, one option is to use *adjacency-lists* -- which explicitly contain a list of each node's neighbors. In this project, we will use Python's `dict` object to implement adjacency lists.\n",
        "\n",
        "In this project, we use the following representations:\n",
        "\n",
        "### Formats\n",
        "**Edge list:** a `list` of edges represented as vertex pairs. For graph $(V,E)$ with $V=\\{v_1,\\dots,v_n\\}$, the edge list representation is of the form `[(vi,vj),...,(vk,vl)]|`, where an edge exists between vertices `vi` and `vj`, an edge exists between vertices `vk` and `vl`, and so on.\n",
        "\n",
        "**Adjacency list:** a `dict` with vertex/neighbor-set key/value pairs. That is, each vertex is a key, and that key's value is a *set* of that vertex's neighbors in the graph. For graph $(V,E)$ with $V=\\{v_1,\\dots,v_n\\}$, the adjacency list representation is of the form `{v1 : {v1's neighbors}, v2 : {v2's neighbors},...}`."
      ]
    },
    {
      "cell_type": "markdown",
      "metadata": {
        "id": "uuYyKZ_sdvkA"
      },
      "source": [
        "**To help visualize graphs, we are providing the `drawGraph` function for your unlimited use.** See the function's docstring for information about how to use it. For your convenience, we also provide two examples of how it can be used below to draw graphs."
      ]
    },
    {
      "cell_type": "code",
      "execution_count": 29,
      "metadata": {
        "id": "RiHcsbcSdyLY"
      },
      "outputs": [],
      "source": [
        "import networkx as nx\n",
        "import matplotlib.pyplot as plt\n",
        "\n",
        "def drawGraph(adjList,actually_draw=True) :\n",
        "    G = nx.Graph()\n",
        "    for node in adjList :\n",
        "        G.add_node(node)\n",
        "        G.add_edges_from([(node,neighbor) for neighbor in adjList[node]])\n",
        "    if actually_draw :\n",
        "        nx.draw_spring(G, with_labels=True, font_weight='bold')"
      ]
    },
    {
      "cell_type": "markdown",
      "metadata": {
        "id": "4HFYbP6fd0cB"
      },
      "source": [
        "### Examples\n",
        "\n",
        "In each code cell, we give an edge list, the corresponding adjacency list, and then use the provided `drawGraph` function to visualize the graph.\n",
        "Note in each that the edge list is more compact than the adjacency list; this is partly because the adjacency list explicitly represents each edge twice.\n",
        "For instance in Example 1, there is an edge between A and D; the adjacency list represents this by saying \"one of A's neighbors is D,\" and also \"one of D's neighbors is A.\""
      ]
    },
    {
      "cell_type": "code",
      "execution_count": 23,
      "metadata": {
        "id": "JBv2lR3Ad2pY"
      },
      "outputs": [
        {
          "data": {
            "image/png": "[encoded data removed]",
            "text/plain": [
              "<Figure size 640x480 with 1 Axes>"
            ]
          },
          "metadata": {},
          "output_type": "display_data"
        }
      ],
      "source": [
        "# Example 1\n",
        "Gexample1_edgeList = [('A','B'),\n",
        "                      ('C','D'),\n",
        "                      ('A','D')]\n",
        "Gexample1_adjList = {'A': {'B', 'D'},\n",
        "                     'B': {'A'},\n",
        "                     'C': {'D'},\n",
        "                     'D': {'A', 'C'}}\n",
        "drawGraph(Gexample1_adjList)"
      ]
    },
    {
      "cell_type": "code",
      "execution_count": 24,
      "metadata": {
        "id": "10VeKkR2d4uF"
      },
      "outputs": [
        {
          "data": {
            "image/png": "[encoded data removed]",
            "text/plain": [
              "<Figure size 640x480 with 1 Axes>"
            ]
          },
          "metadata": {},
          "output_type": "display_data"
        }
      ],
      "source": [
        "# Example 2\n",
        "Gexample2_edgeList = [('A','B'),\n",
        "                      ('C','B'),\n",
        "                      ('A','D'),\n",
        "                      ('A','C')]\n",
        "Gexample2_adjList = {'A':{'B','C','D'},\n",
        "                     'B':{'A','C'},\n",
        "                     'C':{'A','B'},\n",
        "                     'D':{'A'}}\n",
        "drawGraph(Gexample2_adjList)"
      ]
    },
    {
      "cell_type": "markdown",
      "metadata": {
        "id": "eI1XsWAed6rN"
      },
      "source": [
        "### Check Functions\n",
        "In the next cell, we provide an example of how to use the check functions. If the checks pass, nothing is printed -- otherwise a simple message will print and we give three examples of this."
      ]
    },
    {
      "cell_type": "code",
      "execution_count": 25,
      "metadata": {
        "id": "8vGJw1aNd8s2"
      },
      "outputs": [
        {
          "name": "stdout",
          "output_type": "stream",
          "text": [
            "FAIL: graph has a self-loop: {'A': {'A'}}\n",
            "FAIL: graph is not undirected: {'A': {'B'}, 'B': {}}\n",
            "FAIL: missing node in adjacency list for graph {'A': {'B'}}\n"
          ]
        }
      ],
      "source": [
        "# Adjacency list is implemented as Python Dict, with node:neighborset key:val pairs.\n",
        "G_selfloop = {'A':{'A'}} # this is a graph with a self-loop -- which we don't want\n",
        "checkSelfLoops(G_selfloop)\n",
        "\n",
        "G_Directed = {'A':{'B'}, # this is a graph with an edge from A to B, but no edge from B to A. Also don't want.\n",
        "              'B':{}}\n",
        "checkUndirected(G_Directed)\n",
        "\n",
        "G_Directed2 = {'A':{'B'}} # this is an adjacency list that doesn't have an entry for node B. Not good.\n",
        "checkUndirected(G_Directed2)"
      ]
    },
    {
      "cell_type": "markdown",
      "metadata": {
        "id": "JBKSC1IUd-9g"
      },
      "source": [
        "# Deliverable #6: Convert Edge-list representation to Adjacency-List representation\n",
        "\n",
        "Now let's take our newfound knowledge of Python dictionaries and our definitions of graph representations and use it to represent graphs. Create a function called `edgeList_to_adjList` which accepts a list of edges (that is, vertex pairs) and returns an adjacency-list representation of the same graph according to the formatting described above. Several tests are provided to help you check your work. If your function works properly, the `MysteryGraph` will be visualized and show you a neat pattern."
      ]
    },
    {
      "cell_type": "code",
      "execution_count": 26,
      "metadata": {
        "id": "_L8vSDNheD94"
      },
      "outputs": [
        {
          "name": "stdout",
          "output_type": "stream",
          "text": [
            "FAIL expected: {'A': {'B'}, 'B': {'A'}}  got: {}\n",
            "FAIL expected: {'A': {'B'}, 'B': {'A'}, 'C': {'D'}, 'D': {'C'}}  got: {}\n",
            "FAIL expected: {'A': {'B'}, 'B': {'D', 'A'}, 'C': {'D'}, 'D': {'C', 'B'}}  got: {}\n",
            "FAIL expected: {'A': {'D', 'C', 'B'}, 'B': {'D', 'C', 'A'}, 'C': {'D', 'B', 'A'}, 'D': {'C', 'B', 'A'}}  got: {}\n"
          ]
        },
        {
          "data": {
            "image/png": "[encoded data removed]",
            "text/plain": [
              "<Figure size 640x480 with 1 Axes>"
            ]
          },
          "metadata": {},
          "output_type": "display_data"
        }
      ],
      "source": [
        "def edgeList_to_adjList(edgeList) :\n",
        "    adjList = {}\n",
        "    # complete function definition here!\n",
        "    return adjList\n",
        "\n",
        "\n",
        "expectEqual(edgeList_to_adjList([]),{})\n",
        "expectEqual(edgeList_to_adjList([('A','B')]),{'A': {'B'}, 'B': {'A'}})\n",
        "expectEqual(edgeList_to_adjList([('A','B'),('C','D')]),{'A': {'B'}, 'B': {'A'}, 'C': {'D'}, 'D': {'C'}})\n",
        "expectEqual(edgeList_to_adjList([('A','B'),('C','D'),('B','D')]),{'A': {'B'}, 'B': {'D', 'A'}, 'C': {'D'}, 'D': {'C', 'B'}})\n",
        "expectEqual(edgeList_to_adjList([('A','B'),('A','C'),('A','D'),('C','D'),('B','C'),('B','D')]),{'A': {'D', 'C', 'B'}, 'B': {'D', 'A', 'C'}, 'C': {'D', 'A', 'B'}, 'D': {'A', 'C', 'B'}})\n",
        "\n",
        "\n",
        "MysteryGraph = [('A','B'),('A','C'),('A','D'),('A','E'),('A','F'),('B','C'),('B','D'),('B','E'),('B','G'),('C','D'),('C','E'),('C','H'),('D','E'),('D','I'),('E','J')]\n",
        "checkSelfLoops(edgeList_to_adjList(MysteryGraph))\n",
        "checkUndirected(edgeList_to_adjList(MysteryGraph))\n",
        "drawGraph(edgeList_to_adjList(MysteryGraph)) # a fancy graph should be visualized if you get this right"
      ]
    },
    {
      "cell_type": "markdown",
      "metadata": {
        "id": "cgZoflzPeIoM"
      },
      "source": [
        "# Deliverable #7: Determine if a given graph is Eulerian\n",
        "Recall the a graph is called *Eulerian* if it is possible to walk around the graph, visiting every edge exactly once, and returning to your starting vertex. This was discussed in Lecture, and [more information can be found here.](https://en.wikipedia.org/wiki/Eulerian_path)\n",
        "\n",
        "One way to determine that a graph is Eulerian is to actually find an eulerian circuit, or determine that no such circuit exists.\n",
        "\n",
        "Complete the function definition below for function `eulerian`. The function's input should be a graph represented as **an edge list**. If the input graph is Eulerian, the function should output `True`, and if the input graph is not Eulerian, the function should output `False`. Note: you can assume that the input graph is connected (that is, that a path exists between every pair of vertices). Use whatever technique you want to determine Eulerianness!"
      ]
    },
    {
      "cell_type": "code",
      "execution_count": 27,
      "metadata": {
        "id": "nMeJQytAePKq"
      },
      "outputs": [
        {
          "name": "stdout",
          "output_type": "stream",
          "text": [
            "FAIL expected: False  got: None\n",
            "FAIL expected: False  got: None\n",
            "FAIL expected: True  got: None\n",
            "FAIL expected: True  got: None\n",
            "FAIL expected: True  got: None\n",
            "FAIL expected: True  got: None\n",
            "FAIL expected: False  got: None\n"
          ]
        }
      ],
      "source": [
        "def eulerian(edgeList) :\n",
        "    '''\n",
        "    Determine whether input graph is Eulerian.\n",
        "    Input: Simple, undirected, connected graph represented by an edge list.\n",
        "    Output: True if the input graph is Eulerian, False if the input graph is not Eulerian.\n",
        "    '''\n",
        "\n",
        "    # complete function definition here!\n",
        "    return None\n",
        "\n",
        "\n",
        "expectEqual(eulerian([('A','B')]),False)\n",
        "expectEqual(eulerian([('A','B'),('B','C')]),False)\n",
        "expectEqual(eulerian([('A','B'),('B','C'),('A','C')]),True)\n",
        "expectEqual(eulerian([('A','B'),('B','C'),('A','D'),('C','D')]),True)\n",
        "expectEqual(eulerian([('A','B'),('B','C'),('A','D'),('C','D'),('B','D'),('D','E'),('E','B')]),True)\n",
        "expectEqual(eulerian([('A','B'),('A','C'),('A','D'),('A','E'),('B','C'),('B','D'),('B','E'),('C','D'),('C','E'),('D','E')]),True)\n",
        "expectEqual(eulerian(MysteryGraph),False)"
      ]
    }
  ],
  "metadata": {
    "colab": {
      "provenance": []
    },
    "kernelspec": {
      "display_name": "Python 3",
      "language": "python",
      "name": "python3"
    },
    "language_info": {
      "codemirror_mode": {
        "name": "ipython",
        "version": 3
      },
      "file_extension": ".py",
      "mimetype": "text/x-python",
      "name": "python",
      "nbconvert_exporter": "python",
      "pygments_lexer": "ipython3",
      "version": "3.11.4"
    }
  },
  "nbformat": 4,
  "nbformat_minor": 0
}
